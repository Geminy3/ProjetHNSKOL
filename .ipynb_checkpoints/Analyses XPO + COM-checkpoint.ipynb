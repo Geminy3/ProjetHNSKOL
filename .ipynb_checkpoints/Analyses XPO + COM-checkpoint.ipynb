{
 "cells": [
  {
   "cell_type": "code",
   "execution_count": 50,
   "id": "22f08d8b",
   "metadata": {},
   "outputs": [
    {
     "name": "stderr",
     "output_type": "stream",
     "text": [
      "2021-12-11 12:47:09 INFO: Loading these models for language: fr (French):\n",
      "=======================\n",
      "| Processor | Package |\n",
      "-----------------------\n",
      "| tokenize  | gsd     |\n",
      "| mwt       | gsd     |\n",
      "| pos       | gsd     |\n",
      "| lemma     | gsd     |\n",
      "| depparse  | gsd     |\n",
      "| ner       | wikiner |\n",
      "=======================\n",
      "\n",
      "2021-12-11 12:47:09 INFO: Use device: cpu\n",
      "2021-12-11 12:47:09 INFO: Loading: tokenize\n",
      "2021-12-11 12:47:10 INFO: Loading: mwt\n",
      "2021-12-11 12:47:10 INFO: Loading: pos\n",
      "2021-12-11 12:47:10 INFO: Loading: lemma\n",
      "2021-12-11 12:47:10 INFO: Loading: depparse\n",
      "2021-12-11 12:47:12 INFO: Loading: ner\n",
      "2021-12-11 12:47:14 INFO: Done loading processors!\n"
     ]
    }
   ],
   "source": [
    "import pandas as pd\n",
    "from wordcloud import WordCloud\n",
    "import re\n",
    "import nltk\n",
    "import matplotlib.pyplot as plt\n",
    "import numpy as np\n",
    "from sklearn.feature_extraction.text import CountVectorizer\n",
    "from sklearn.feature_extraction.text import TfidfVectorizer\n",
    "import spacy\n",
    "import math\n",
    "import stanza\n",
    "\n",
    "%matplotlib inline\n",
    "nlp = stanza.Pipeline('fr')"
   ]
  },
  {
   "cell_type": "code",
   "execution_count": 41,
   "id": "af32ef72",
   "metadata": {},
   "outputs": [],
   "source": [
    "def top_feats(row, features, top_n=25):\n",
    "    ''' Get top n tfidf values in row and return them with their corresponding feature names.'''\n",
    "    topn_ids = np.argsort(row)[::-1][:top_n]\n",
    "    top_feats = [(features[i], row[i]) for i in topn_ids if row[i]>0]\n",
    "    df = pd.DataFrame(top_feats)\n",
    "    if len(top_feats) > 0:\n",
    "        df.columns = ['feature', 'score']\n",
    "    return df\n",
    "\n",
    "def top_feats_in_doc(Xtr, features, row_id, top_n=25):\n",
    "    ''' Top features in specific document (matrix row) '''\n",
    "    row = np.squeeze(Xtr[row_id].toarray())\n",
    "    return top_feats(row, features, top_n)\n",
    "\n",
    "def cosinus(i, j):\n",
    "    num = np.dot(i, j)\n",
    "    den = math.sqrt(sum(i*i))*math.sqrt(sum(j*j))\n",
    "    if (den>0):    \n",
    "        return (num/den)\n",
    "    else:\n",
    "        return 0\n",
    "    \n",
    "def search(q, D, n_docs):\n",
    "    cc = {i: cosinus(D[i, :], q) for i in range(n_docs)}\n",
    "    cc = sorted(cc.items(), key=lambda x: x[1], reverse=True)\n",
    "    return cc\n",
    "\n",
    "def askforwords(queries):\n",
    "    word = input(\"Quels mots cherchez-vous ? :  \\n\")\n",
    "    if word != 'n' or word != '':\n",
    "        queries = queries + [w for w in nltk.tokenize.word_tokenize(word)]\n",
    "\n",
    "    answer = input(\"Souhaitez vous ajouter d'autres mots ? [y/n]  \\n\")\n",
    "    if answer == 'n':\n",
    "        return(queries)\n",
    "    elif answer == 'y':\n",
    "        askforwords(queries)\n",
    "    else:\n",
    "        print(\"ce paramètre n'est pas correct\")\n",
    "    \n",
    "    return(queries)"
   ]
  },
  {
   "cell_type": "code",
   "execution_count": 45,
   "id": "78dc324b",
   "metadata": {},
   "outputs": [],
   "source": [
    "import string\n",
    "\n",
    "with open(\"./stopwords/Stop-words-french.txt\", \"r\", encoding='utf8') as f:\n",
    "    stopW1 = [line.rstrip(\"\\n\") for line in f.readlines()]\n",
    "with open(\"./stopwords/stopword.txt\", \"r\", encoding='utf8') as f:\n",
    "    stopW2 = [line.rstrip(\"\\n\") for line in f.readlines()]\n",
    "stopW = stopW1 + stopW2 #+ stopwords.words(\"french\")\n",
    "stopW.extend(string.punctuation)\n",
    "stopW.extend(['’', '«', '»', '…', '—','».', '»,', '---', '.—', '…—', 'ans', 'an'])"
   ]
  },
  {
   "cell_type": "code",
   "execution_count": 154,
   "id": "17f7ca6a",
   "metadata": {},
   "outputs": [
    {
     "data": {
      "text/html": [
       "<div>\n",
       "<style scoped>\n",
       "    .dataframe tbody tr th:only-of-type {\n",
       "        vertical-align: middle;\n",
       "    }\n",
       "\n",
       "    .dataframe tbody tr th {\n",
       "        vertical-align: top;\n",
       "    }\n",
       "\n",
       "    .dataframe thead th {\n",
       "        text-align: right;\n",
       "    }\n",
       "</style>\n",
       "<table border=\"1\" class=\"dataframe\">\n",
       "  <thead>\n",
       "    <tr style=\"text-align: right;\">\n",
       "      <th></th>\n",
       "      <th>Unnamed: 0</th>\n",
       "      <th>id</th>\n",
       "      <th>titre</th>\n",
       "      <th>date</th>\n",
       "      <th>year</th>\n",
       "      <th>legislature</th>\n",
       "      <th>Exposé des motifs</th>\n",
       "      <th>Communiqué de presse</th>\n",
       "      <th>Productions</th>\n",
       "      <th>preprocessed_xpo</th>\n",
       "    </tr>\n",
       "  </thead>\n",
       "  <tbody>\n",
       "    <tr>\n",
       "      <th>0</th>\n",
       "      <td>0</td>\n",
       "      <td>JORFDOLE000025417300</td>\n",
       "      <td>LOI n° 2012-346 du 12 mars 2012 relative aux m...</td>\n",
       "      <td>Tue Mar 13 01:00:00 2012</td>\n",
       "      <td>2012</td>\n",
       "      <td>XIIIème législature</td>\n",
       "      <td>NaN</td>\n",
       "      <td>NaN</td>\n",
       "      <td>4</td>\n",
       "      <td>NaN</td>\n",
       "    </tr>\n",
       "    <tr>\n",
       "      <th>1</th>\n",
       "      <td>1</td>\n",
       "      <td>JORFDOLE000031600244</td>\n",
       "      <td>LOI n° 2015-1705 du 21 décembre 2015 autorisan...</td>\n",
       "      <td>Thu Dec 24 01:00:00 2015</td>\n",
       "      <td>2015</td>\n",
       "      <td>XIVème législature</td>\n",
       "      <td>La France a signé le 18 décembre 2008 à Paris...</td>\n",
       "      <td>NaN</td>\n",
       "      <td>3</td>\n",
       "      <td>['France', 'signer', 'Paris', 'accord', 'agenc...</td>\n",
       "    </tr>\n",
       "    <tr>\n",
       "      <th>2</th>\n",
       "      <td>2</td>\n",
       "      <td>JORFDOLE000026453342</td>\n",
       "      <td>LOI n° 2012-1432 du 21 décembre 2012 relative ...</td>\n",
       "      <td>Mon Dec 24 01:00:00 2012</td>\n",
       "      <td>2012</td>\n",
       "      <td>XIVème législature</td>\n",
       "      <td>NOR : INTX1232040L Depuis 1986, la France s'e...</td>\n",
       "      <td>NaN</td>\n",
       "      <td>6</td>\n",
       "      <td>['INTXL', 'France', 'progressivement', 'doter'...</td>\n",
       "    </tr>\n",
       "    <tr>\n",
       "      <th>3</th>\n",
       "      <td>3</td>\n",
       "      <td>JORFDOLE000043266698</td>\n",
       "      <td>LOI n° 2021-725 du 8 juin 2021 visant à sécuri...</td>\n",
       "      <td>Wed Jun  9 02:00:00 2021</td>\n",
       "      <td>2021</td>\n",
       "      <td>XVème législature</td>\n",
       "      <td>NaN</td>\n",
       "      <td>NaN</td>\n",
       "      <td>4</td>\n",
       "      <td>NaN</td>\n",
       "    </tr>\n",
       "    <tr>\n",
       "      <th>4</th>\n",
       "      <td>4</td>\n",
       "      <td>JORFDOLE000023856350</td>\n",
       "      <td>LOI n° 2011-939 du 10 août 2011 sur la partici...</td>\n",
       "      <td>Thu Aug 11 02:00:00 2011</td>\n",
       "      <td>2011</td>\n",
       "      <td>XIIIème législature</td>\n",
       "      <td>Le présent projet de loi poursuit deux object...</td>\n",
       "      <td>NaN</td>\n",
       "      <td>6</td>\n",
       "      <td>['présent', 'poursuivre', 'objectif', 'amélior...</td>\n",
       "    </tr>\n",
       "    <tr>\n",
       "      <th>...</th>\n",
       "      <td>...</td>\n",
       "      <td>...</td>\n",
       "      <td>...</td>\n",
       "      <td>...</td>\n",
       "      <td>...</td>\n",
       "      <td>...</td>\n",
       "      <td>...</td>\n",
       "      <td>...</td>\n",
       "      <td>...</td>\n",
       "      <td>...</td>\n",
       "    </tr>\n",
       "    <tr>\n",
       "      <th>740</th>\n",
       "      <td>740</td>\n",
       "      <td>JORFDOLE000030705573</td>\n",
       "      <td>LOI organique n° 2015-911 du 24 juillet 2015 r...</td>\n",
       "      <td>Sun Jul 26 02:00:00 2015</td>\n",
       "      <td>2015</td>\n",
       "      <td>XIVème législature</td>\n",
       "      <td>NaN</td>\n",
       "      <td>NaN</td>\n",
       "      <td>4</td>\n",
       "      <td>NaN</td>\n",
       "    </tr>\n",
       "    <tr>\n",
       "      <th>741</th>\n",
       "      <td>741</td>\n",
       "      <td>JORFDOLE000030641220</td>\n",
       "      <td>LOI n° 2015-957 du 3 août 2015 de règlement du...</td>\n",
       "      <td>Tue Aug  4 02:00:00 2015</td>\n",
       "      <td>2015</td>\n",
       "      <td>XIVème législature</td>\n",
       "      <td>NaN</td>\n",
       "      <td>Le ministre des finances et des comptes public...</td>\n",
       "      <td>0</td>\n",
       "      <td>['ministre', 'finance', 'public', 'secrétaire'...</td>\n",
       "    </tr>\n",
       "    <tr>\n",
       "      <th>742</th>\n",
       "      <td>742</td>\n",
       "      <td>JORFDOLE000018433118</td>\n",
       "      <td>LOI n° 2008-1091 du 28 octobre 2008 relative à...</td>\n",
       "      <td>Wed Oct 29 01:00:00 2008</td>\n",
       "      <td>2008</td>\n",
       "      <td>XIIIème législature</td>\n",
       "      <td>ExposÉ des motifs Le projet de loi qui vous e...</td>\n",
       "      <td>NaN</td>\n",
       "      <td>4</td>\n",
       "      <td>['exposer', 'motif', 'présenter', 'viser', 'ré...</td>\n",
       "    </tr>\n",
       "    <tr>\n",
       "      <th>743</th>\n",
       "      <td>743</td>\n",
       "      <td>JORFDOLE000023273651</td>\n",
       "      <td>LOI organique n° 2014-1392 du 24 novembre 2014...</td>\n",
       "      <td>Tue Nov 25 01:00:00 2014</td>\n",
       "      <td>2014</td>\n",
       "      <td>XIVème législature</td>\n",
       "      <td>Représentant de la Nation et garant du foncti...</td>\n",
       "      <td>NaN</td>\n",
       "      <td>4</td>\n",
       "      <td>['représenter', 'nation', 'garant', 'fonctionn...</td>\n",
       "    </tr>\n",
       "    <tr>\n",
       "      <th>744</th>\n",
       "      <td>744</td>\n",
       "      <td>JORFDOLE000022875549</td>\n",
       "      <td>LOI n° 2010-1657 du 29 décembre 2010 de financ...</td>\n",
       "      <td>Thu Dec 30 01:00:00 2010</td>\n",
       "      <td>2010</td>\n",
       "      <td>XIIIème législature</td>\n",
       "      <td>NaN</td>\n",
       "      <td>Le ministre du budget, des comptes publics et ...</td>\n",
       "      <td>10</td>\n",
       "      <td>['ministre', 'public', 'réforme', 'présenter',...</td>\n",
       "    </tr>\n",
       "  </tbody>\n",
       "</table>\n",
       "<p>745 rows × 10 columns</p>\n",
       "</div>"
      ],
      "text/plain": [
       "     Unnamed: 0                    id  \\\n",
       "0             0  JORFDOLE000025417300   \n",
       "1             1  JORFDOLE000031600244   \n",
       "2             2  JORFDOLE000026453342   \n",
       "3             3  JORFDOLE000043266698   \n",
       "4             4  JORFDOLE000023856350   \n",
       "..          ...                   ...   \n",
       "740         740  JORFDOLE000030705573   \n",
       "741         741  JORFDOLE000030641220   \n",
       "742         742  JORFDOLE000018433118   \n",
       "743         743  JORFDOLE000023273651   \n",
       "744         744  JORFDOLE000022875549   \n",
       "\n",
       "                                                 titre  \\\n",
       "0    LOI n° 2012-346 du 12 mars 2012 relative aux m...   \n",
       "1    LOI n° 2015-1705 du 21 décembre 2015 autorisan...   \n",
       "2    LOI n° 2012-1432 du 21 décembre 2012 relative ...   \n",
       "3    LOI n° 2021-725 du 8 juin 2021 visant à sécuri...   \n",
       "4    LOI n° 2011-939 du 10 août 2011 sur la partici...   \n",
       "..                                                 ...   \n",
       "740  LOI organique n° 2015-911 du 24 juillet 2015 r...   \n",
       "741  LOI n° 2015-957 du 3 août 2015 de règlement du...   \n",
       "742  LOI n° 2008-1091 du 28 octobre 2008 relative à...   \n",
       "743  LOI organique n° 2014-1392 du 24 novembre 2014...   \n",
       "744  LOI n° 2010-1657 du 29 décembre 2010 de financ...   \n",
       "\n",
       "                         date  year          legislature  \\\n",
       "0    Tue Mar 13 01:00:00 2012  2012  XIIIème législature   \n",
       "1    Thu Dec 24 01:00:00 2015  2015   XIVème législature   \n",
       "2    Mon Dec 24 01:00:00 2012  2012   XIVème législature   \n",
       "3    Wed Jun  9 02:00:00 2021  2021    XVème législature   \n",
       "4    Thu Aug 11 02:00:00 2011  2011  XIIIème législature   \n",
       "..                        ...   ...                  ...   \n",
       "740  Sun Jul 26 02:00:00 2015  2015   XIVème législature   \n",
       "741  Tue Aug  4 02:00:00 2015  2015   XIVème législature   \n",
       "742  Wed Oct 29 01:00:00 2008  2008  XIIIème législature   \n",
       "743  Tue Nov 25 01:00:00 2014  2014   XIVème législature   \n",
       "744  Thu Dec 30 01:00:00 2010  2010  XIIIème législature   \n",
       "\n",
       "                                     Exposé des motifs  \\\n",
       "0                                                  NaN   \n",
       "1     La France a signé le 18 décembre 2008 à Paris...   \n",
       "2     NOR : INTX1232040L Depuis 1986, la France s'e...   \n",
       "3                                                  NaN   \n",
       "4     Le présent projet de loi poursuit deux object...   \n",
       "..                                                 ...   \n",
       "740                                                NaN   \n",
       "741                                                NaN   \n",
       "742   ExposÉ des motifs Le projet de loi qui vous e...   \n",
       "743   Représentant de la Nation et garant du foncti...   \n",
       "744                                                NaN   \n",
       "\n",
       "                                  Communiqué de presse  Productions  \\\n",
       "0                                                  NaN            4   \n",
       "1                                                  NaN            3   \n",
       "2                                                  NaN            6   \n",
       "3                                                  NaN            4   \n",
       "4                                                  NaN            6   \n",
       "..                                                 ...          ...   \n",
       "740                                                NaN            4   \n",
       "741  Le ministre des finances et des comptes public...            0   \n",
       "742                                                NaN            4   \n",
       "743                                                NaN            4   \n",
       "744  Le ministre du budget, des comptes publics et ...           10   \n",
       "\n",
       "                                      preprocessed_xpo  \n",
       "0                                                  NaN  \n",
       "1    ['France', 'signer', 'Paris', 'accord', 'agenc...  \n",
       "2    ['INTXL', 'France', 'progressivement', 'doter'...  \n",
       "3                                                  NaN  \n",
       "4    ['présent', 'poursuivre', 'objectif', 'amélior...  \n",
       "..                                                 ...  \n",
       "740                                                NaN  \n",
       "741  ['ministre', 'finance', 'public', 'secrétaire'...  \n",
       "742  ['exposer', 'motif', 'présenter', 'viser', 'ré...  \n",
       "743  ['représenter', 'nation', 'garant', 'fonctionn...  \n",
       "744  ['ministre', 'public', 'réforme', 'présenter',...  \n",
       "\n",
       "[745 rows x 10 columns]"
      ]
     },
     "execution_count": 154,
     "metadata": {},
     "output_type": "execute_result"
    }
   ],
   "source": [
    "df = pd.read_excel(\"./Exports/final_export.xlsx\", )\n",
    "#for i in range(len(df)):\n",
    "#    df.preprocessed_xpo[i] = re.sub(\"'\", \"\", str(df.preprocessed_xpo[i]))\n",
    "df"
   ]
  },
  {
   "cell_type": "code",
   "execution_count": 166,
   "id": "3e76acba",
   "metadata": {},
   "outputs": [
    {
     "name": "stderr",
     "output_type": "stream",
     "text": [
      "<ipython-input-166-3f69c9321f4d>:5: SettingWithCopyWarning: \n",
      "A value is trying to be set on a copy of a slice from a DataFrame\n",
      "\n",
      "See the caveats in the documentation: https://pandas.pydata.org/pandas-docs/stable/user_guide/indexing.html#returning-a-view-versus-a-copy\n",
      "  Xpo.preprocessed_xpo[i] = re.sub(\"'\", \"\", str(Xpo.preprocessed_xpo[i]))\n"
     ]
    },
    {
     "data": {
      "text/html": [
       "<div>\n",
       "<style scoped>\n",
       "    .dataframe tbody tr th:only-of-type {\n",
       "        vertical-align: middle;\n",
       "    }\n",
       "\n",
       "    .dataframe tbody tr th {\n",
       "        vertical-align: top;\n",
       "    }\n",
       "\n",
       "    .dataframe thead th {\n",
       "        text-align: right;\n",
       "    }\n",
       "</style>\n",
       "<table border=\"1\" class=\"dataframe\">\n",
       "  <thead>\n",
       "    <tr style=\"text-align: right;\">\n",
       "      <th></th>\n",
       "      <th>id</th>\n",
       "      <th>titre</th>\n",
       "      <th>date</th>\n",
       "      <th>year</th>\n",
       "      <th>legislature</th>\n",
       "      <th>Exposé des motifs</th>\n",
       "      <th>Communiqué de presse</th>\n",
       "      <th>Productions</th>\n",
       "      <th>preprocessed_xpo</th>\n",
       "    </tr>\n",
       "  </thead>\n",
       "  <tbody>\n",
       "    <tr>\n",
       "      <th>0</th>\n",
       "      <td>JORFDOLE000031600244</td>\n",
       "      <td>LOI n° 2015-1705 du 21 décembre 2015 autorisan...</td>\n",
       "      <td>Thu Dec 24 01:00:00 2015</td>\n",
       "      <td>2015</td>\n",
       "      <td>XIVème législature</td>\n",
       "      <td>La France a signé le 18 décembre 2008 à Paris...</td>\n",
       "      <td>NaN</td>\n",
       "      <td>3</td>\n",
       "      <td>[France, signer, Paris, accord, agence, spatia...</td>\n",
       "    </tr>\n",
       "    <tr>\n",
       "      <th>1</th>\n",
       "      <td>JORFDOLE000026453342</td>\n",
       "      <td>LOI n° 2012-1432 du 21 décembre 2012 relative ...</td>\n",
       "      <td>Mon Dec 24 01:00:00 2012</td>\n",
       "      <td>2012</td>\n",
       "      <td>XIVème législature</td>\n",
       "      <td>NOR : INTX1232040L Depuis 1986, la France s'e...</td>\n",
       "      <td>NaN</td>\n",
       "      <td>6</td>\n",
       "      <td>[INTXL, France, progressivement, doter, démocr...</td>\n",
       "    </tr>\n",
       "    <tr>\n",
       "      <th>2</th>\n",
       "      <td>JORFDOLE000023856350</td>\n",
       "      <td>LOI n° 2011-939 du 10 août 2011 sur la partici...</td>\n",
       "      <td>Thu Aug 11 02:00:00 2011</td>\n",
       "      <td>2011</td>\n",
       "      <td>XIIIème législature</td>\n",
       "      <td>Le présent projet de loi poursuit deux object...</td>\n",
       "      <td>NaN</td>\n",
       "      <td>6</td>\n",
       "      <td>[présent, poursuivre, objectif, améliorer, par...</td>\n",
       "    </tr>\n",
       "    <tr>\n",
       "      <th>3</th>\n",
       "      <td>JORFDOLE000029254232</td>\n",
       "      <td>LOI n° 2014-1662 du 30 décembre 2014 portant d...</td>\n",
       "      <td>Wed Dec 31 01:00:00 2014</td>\n",
       "      <td>2014</td>\n",
       "      <td>XIVème législature</td>\n",
       "      <td>L'activité législative soutenue du Conseil de...</td>\n",
       "      <td>NaN</td>\n",
       "      <td>6</td>\n",
       "      <td>[activité, législatif, soutenir, conseil, unio...</td>\n",
       "    </tr>\n",
       "    <tr>\n",
       "      <th>4</th>\n",
       "      <td>JORFDOLE000017758144</td>\n",
       "      <td>LOI n° 2008-89 du 30 janvier 2008 relative à l...</td>\n",
       "      <td>Wed Jan 30 01:00:00 2008</td>\n",
       "      <td>2008</td>\n",
       "      <td>XIIIème législature</td>\n",
       "      <td>Le titre I er du projet de loi transpose la d...</td>\n",
       "      <td>NaN</td>\n",
       "      <td>2</td>\n",
       "      <td>[er, transposer, directive, conseil, compléter...</td>\n",
       "    </tr>\n",
       "    <tr>\n",
       "      <th>...</th>\n",
       "      <td>...</td>\n",
       "      <td>...</td>\n",
       "      <td>...</td>\n",
       "      <td>...</td>\n",
       "      <td>...</td>\n",
       "      <td>...</td>\n",
       "      <td>...</td>\n",
       "      <td>...</td>\n",
       "      <td>...</td>\n",
       "    </tr>\n",
       "    <tr>\n",
       "      <th>467</th>\n",
       "      <td>JORFDOLE000024603789</td>\n",
       "      <td>LOI n° 2011-1977 du 28 décembre 2011 de financ...</td>\n",
       "      <td>Thu Dec 29 01:00:00 2011</td>\n",
       "      <td>2011</td>\n",
       "      <td>XIIIème législature</td>\n",
       "      <td>NaN</td>\n",
       "      <td>La ministre du budget, des comptes publics et ...</td>\n",
       "      <td>0</td>\n",
       "      <td>[ministre, public, réforme, porte-parole, gouv...</td>\n",
       "    </tr>\n",
       "    <tr>\n",
       "      <th>468</th>\n",
       "      <td>JORFDOLE000030641220</td>\n",
       "      <td>LOI n° 2015-957 du 3 août 2015 de règlement du...</td>\n",
       "      <td>Tue Aug  4 02:00:00 2015</td>\n",
       "      <td>2015</td>\n",
       "      <td>XIVème législature</td>\n",
       "      <td>NaN</td>\n",
       "      <td>Le ministre des finances et des comptes public...</td>\n",
       "      <td>0</td>\n",
       "      <td>[ministre, finance, public, secrétaire, charge...</td>\n",
       "    </tr>\n",
       "    <tr>\n",
       "      <th>469</th>\n",
       "      <td>JORFDOLE000018433118</td>\n",
       "      <td>LOI n° 2008-1091 du 28 octobre 2008 relative à...</td>\n",
       "      <td>Wed Oct 29 01:00:00 2008</td>\n",
       "      <td>2008</td>\n",
       "      <td>XIIIème législature</td>\n",
       "      <td>ExposÉ des motifs Le projet de loi qui vous e...</td>\n",
       "      <td>NaN</td>\n",
       "      <td>4</td>\n",
       "      <td>[exposer, motif, présenter, viser, réformer, j...</td>\n",
       "    </tr>\n",
       "    <tr>\n",
       "      <th>470</th>\n",
       "      <td>JORFDOLE000023273651</td>\n",
       "      <td>LOI organique n° 2014-1392 du 24 novembre 2014...</td>\n",
       "      <td>Tue Nov 25 01:00:00 2014</td>\n",
       "      <td>2014</td>\n",
       "      <td>XIVème législature</td>\n",
       "      <td>Représentant de la Nation et garant du foncti...</td>\n",
       "      <td>NaN</td>\n",
       "      <td>4</td>\n",
       "      <td>[représenter, nation, garant, fonctionnement, ...</td>\n",
       "    </tr>\n",
       "    <tr>\n",
       "      <th>471</th>\n",
       "      <td>JORFDOLE000022875549</td>\n",
       "      <td>LOI n° 2010-1657 du 29 décembre 2010 de financ...</td>\n",
       "      <td>Thu Dec 30 01:00:00 2010</td>\n",
       "      <td>2010</td>\n",
       "      <td>XIIIème législature</td>\n",
       "      <td>NaN</td>\n",
       "      <td>Le ministre du budget, des comptes publics et ...</td>\n",
       "      <td>10</td>\n",
       "      <td>[ministre, public, réforme, présenter, ministr...</td>\n",
       "    </tr>\n",
       "  </tbody>\n",
       "</table>\n",
       "<p>472 rows × 9 columns</p>\n",
       "</div>"
      ],
      "text/plain": [
       "                       id                                              titre  \\\n",
       "0    JORFDOLE000031600244  LOI n° 2015-1705 du 21 décembre 2015 autorisan...   \n",
       "1    JORFDOLE000026453342  LOI n° 2012-1432 du 21 décembre 2012 relative ...   \n",
       "2    JORFDOLE000023856350  LOI n° 2011-939 du 10 août 2011 sur la partici...   \n",
       "3    JORFDOLE000029254232  LOI n° 2014-1662 du 30 décembre 2014 portant d...   \n",
       "4    JORFDOLE000017758144  LOI n° 2008-89 du 30 janvier 2008 relative à l...   \n",
       "..                    ...                                                ...   \n",
       "467  JORFDOLE000024603789  LOI n° 2011-1977 du 28 décembre 2011 de financ...   \n",
       "468  JORFDOLE000030641220  LOI n° 2015-957 du 3 août 2015 de règlement du...   \n",
       "469  JORFDOLE000018433118  LOI n° 2008-1091 du 28 octobre 2008 relative à...   \n",
       "470  JORFDOLE000023273651  LOI organique n° 2014-1392 du 24 novembre 2014...   \n",
       "471  JORFDOLE000022875549  LOI n° 2010-1657 du 29 décembre 2010 de financ...   \n",
       "\n",
       "                         date  year          legislature  \\\n",
       "0    Thu Dec 24 01:00:00 2015  2015   XIVème législature   \n",
       "1    Mon Dec 24 01:00:00 2012  2012   XIVème législature   \n",
       "2    Thu Aug 11 02:00:00 2011  2011  XIIIème législature   \n",
       "3    Wed Dec 31 01:00:00 2014  2014   XIVème législature   \n",
       "4    Wed Jan 30 01:00:00 2008  2008  XIIIème législature   \n",
       "..                        ...   ...                  ...   \n",
       "467  Thu Dec 29 01:00:00 2011  2011  XIIIème législature   \n",
       "468  Tue Aug  4 02:00:00 2015  2015   XIVème législature   \n",
       "469  Wed Oct 29 01:00:00 2008  2008  XIIIème législature   \n",
       "470  Tue Nov 25 01:00:00 2014  2014   XIVème législature   \n",
       "471  Thu Dec 30 01:00:00 2010  2010  XIIIème législature   \n",
       "\n",
       "                                     Exposé des motifs  \\\n",
       "0     La France a signé le 18 décembre 2008 à Paris...   \n",
       "1     NOR : INTX1232040L Depuis 1986, la France s'e...   \n",
       "2     Le présent projet de loi poursuit deux object...   \n",
       "3     L'activité législative soutenue du Conseil de...   \n",
       "4     Le titre I er du projet de loi transpose la d...   \n",
       "..                                                 ...   \n",
       "467                                                NaN   \n",
       "468                                                NaN   \n",
       "469   ExposÉ des motifs Le projet de loi qui vous e...   \n",
       "470   Représentant de la Nation et garant du foncti...   \n",
       "471                                                NaN   \n",
       "\n",
       "                                  Communiqué de presse  Productions  \\\n",
       "0                                                  NaN            3   \n",
       "1                                                  NaN            6   \n",
       "2                                                  NaN            6   \n",
       "3                                                  NaN            6   \n",
       "4                                                  NaN            2   \n",
       "..                                                 ...          ...   \n",
       "467  La ministre du budget, des comptes publics et ...            0   \n",
       "468  Le ministre des finances et des comptes public...            0   \n",
       "469                                                NaN            4   \n",
       "470                                                NaN            4   \n",
       "471  Le ministre du budget, des comptes publics et ...           10   \n",
       "\n",
       "                                      preprocessed_xpo  \n",
       "0    [France, signer, Paris, accord, agence, spatia...  \n",
       "1    [INTXL, France, progressivement, doter, démocr...  \n",
       "2    [présent, poursuivre, objectif, améliorer, par...  \n",
       "3    [activité, législatif, soutenir, conseil, unio...  \n",
       "4    [er, transposer, directive, conseil, compléter...  \n",
       "..                                                 ...  \n",
       "467  [ministre, public, réforme, porte-parole, gouv...  \n",
       "468  [ministre, finance, public, secrétaire, charge...  \n",
       "469  [exposer, motif, présenter, viser, réformer, j...  \n",
       "470  [représenter, nation, garant, fonctionnement, ...  \n",
       "471  [ministre, public, réforme, présenter, ministr...  \n",
       "\n",
       "[472 rows x 9 columns]"
      ]
     },
     "execution_count": 166,
     "metadata": {},
     "output_type": "execute_result"
    }
   ],
   "source": [
    "Xpo = df.loc[df.preprocessed_xpo.isna() == False]\n",
    "Xpo.reset_index(inplace=True, drop=True)\n",
    "Xpo = Xpo.iloc[:,1:]\n",
    "for i in range(len(Xpo)):\n",
    "    Xpo.preprocessed_xpo[i] = re.sub(\"'\", \"\", str(Xpo.preprocessed_xpo[i]))\n",
    "#for i in range(len(Xpo)):\n",
    "#    Xpo.preprocessed_xpo[i] = nltk.word_tokenize(Xpo.preprocessed_xpo[i])\n",
    "Xpo"
   ]
  },
  {
   "cell_type": "code",
   "execution_count": 150,
   "id": "cbef5992",
   "metadata": {},
   "outputs": [
    {
     "data": {
      "text/plain": [
       "745"
      ]
     },
     "execution_count": 150,
     "metadata": {},
     "output_type": "execute_result"
    }
   ],
   "source": [
    "Xpo.id.count()"
   ]
  },
  {
   "cell_type": "code",
   "execution_count": 168,
   "id": "c8ab745d",
   "metadata": {},
   "outputs": [
    {
     "data": {
      "text/plain": [
       "<AxesSubplot:ylabel='feature'>"
      ]
     },
     "execution_count": 168,
     "metadata": {},
     "output_type": "execute_result"
    },
    {
     "data": {
      "image/png": "[encoded data removed]",
      "text/plain": [
       "<Figure size 576x864 with 1 Axes>"
      ]
     },
     "metadata": {
      "needs_background": "light"
     },
     "output_type": "display_data"
    }
   ],
   "source": [
    "tf_vectorizer = CountVectorizer(stop_words = stopW)\n",
    "titre = [item for item in Xpo.preprocessed_xpo]\n",
    "\n",
    "#tit = nlp(titre)\n",
    "#titre = [word.lemma for sent in titre.sentences for word in sent.words if word.upos != \"VERB\" and word.upos != \"PRON\"]\n",
    "\n",
    "tf_vectorizer.fit(titre)\n",
    "X = tf_vectorizer.transform(titre)\n",
    "X = X.toarray()\n",
    "features = tf_vectorizer.get_feature_names()\n",
    "\n",
    "(num_doc, num_f) = X.shape\n",
    "\n",
    "tf_sum = np.sum(X, axis=0)\n",
    "tf = top_feats(tf_sum, features, 50)\n",
    "top_feats(tf_sum, features, 50)\n",
    "\n",
    "tf.index = tf.feature\n",
    "\n",
    "tf.plot(kind=\"barh\", figsize=(8,12))"
   ]
  },
  {
   "cell_type": "code",
   "execution_count": 169,
   "id": "a2baa76c",
   "metadata": {},
   "outputs": [],
   "source": [
    "words = [\"prévoir\", \"relatif\", \"nouveau\", \"devoir\", \"celui\", \"faire\", \"modifier\", \"accord\", \"mettre\", \"prendre\", \"préciser\", \"viser\", \"lequel\", \"objet\", \" er\", \"porter\", \" uvre\", \"concerner\"]\n",
    "for i in range(len(titre)):\n",
    "    for word in words:\n",
    "        titre[i] = re.sub(word, \"\", titre[i])"
   ]
  },
  {
   "cell_type": "code",
   "execution_count": 170,
   "id": "1e663c13",
   "metadata": {},
   "outputs": [
    {
     "data": {
      "text/plain": [
       "<AxesSubplot:ylabel='feature'>"
      ]
     },
     "execution_count": 170,
     "metadata": {},
     "output_type": "execute_result"
    },
    {
     "data": {
      "image/png": "[encoded data removed]",
      "text/plain": [
       "<Figure size 576x864 with 1 Axes>"
      ]
     },
     "metadata": {
      "needs_background": "light"
     },
     "output_type": "display_data"
    }
   ],
   "source": [
    "#tf_vectorizer = CountVectorizer(stop_words = stopW)\n",
    "#titre = [item for item in Xpo.preprocessed_xpo]\n",
    "\n",
    "#tit = nlp(titre)\n",
    "#titre = [word.lemma for sent in titre.sentences for word in sent.words if word.upos != \"VERB\" and word.upos != \"PRON\"]\n",
    "\n",
    "tf_vectorizer.fit(titre)\n",
    "X = tf_vectorizer.transform(titre)\n",
    "X = X.toarray()\n",
    "features = tf_vectorizer.get_feature_names()\n",
    "\n",
    "(num_doc, num_f) = X.shape\n",
    "\n",
    "tf_sum = np.sum(X, axis=0)\n",
    "tf = top_feats(tf_sum, features, 50)\n",
    "top_feats(tf_sum, features, 50)\n",
    "\n",
    "tf.index = tf.feature\n",
    "\n",
    "tf.plot(kind=\"barh\", figsize=(8,12))"
   ]
  },
  {
   "cell_type": "code",
   "execution_count": 175,
   "id": "07114b7c",
   "metadata": {},
   "outputs": [
    {
     "name": "stderr",
     "output_type": "stream",
     "text": [
      "/opt/anaconda3/lib/python3.8/site-packages/pandas/core/indexing.py:1637: SettingWithCopyWarning: \n",
      "A value is trying to be set on a copy of a slice from a DataFrame\n",
      "\n",
      "See the caveats in the documentation: https://pandas.pydata.org/pandas-docs/stable/user_guide/indexing.html#returning-a-view-versus-a-copy\n",
      "  self._setitem_single_block(indexer, value, name)\n"
     ]
    }
   ],
   "source": [
    "Xpo[\"secu\"] = [\"\" for i in range(len(Xpo))]\n",
    "\n",
    "for i in range(len(Xpo)):\n",
    "    if \"sécurité\" in Xpo.preprocessed_xpo.loc[i]:\n",
    "        Xpo[\"secu\"].loc[i] = 1\n",
    "    else:\n",
    "        Xpo[\"secu\"].loc[i] = 0\n"
   ]
  },
  {
   "cell_type": "code",
   "execution_count": 195,
   "id": "15c71843",
   "metadata": {},
   "outputs": [
    {
     "data": {
      "text/plain": [
       "<AxesSubplot:title={'center':'Apparition du mot \"sécurité\" dans le corpus de loi'}, xlabel='year'>"
      ]
     },
     "execution_count": 195,
     "metadata": {},
     "output_type": "execute_result"
    },
    {
     "data": {
      "image/png": "[encoded data removed]",
      "text/plain": [
       "<Figure size 720x576 with 1 Axes>"
      ]
     },
     "metadata": {
      "needs_background": "light"
     },
     "output_type": "display_data"
    }
   ],
   "source": [
    "Xpo.groupby(['year', 'secu']).secu.count().unstack().plot(kind=\"bar\", title=\"Apparition du mot \\\"sécurité\\\" dans le corpus de loi par année\", figsize=(10,8))\n"
   ]
  },
  {
   "cell_type": "code",
   "execution_count": 197,
   "id": "5804c3ab",
   "metadata": {
    "scrolled": true
   },
   "outputs": [
    {
     "data": {
      "text/plain": [
       "<AxesSubplot:title={'center':'Apparition du mot \"sécurité\" dans le corpus de loi par législature'}, xlabel='legislature'>"
      ]
     },
     "execution_count": 197,
     "metadata": {},
     "output_type": "execute_result"
    },
    {
     "data": {
      "image/png": "[encoded data removed]",
      "text/plain": [
       "<Figure size 720x576 with 1 Axes>"
      ]
     },
     "metadata": {
      "needs_background": "light"
     },
     "output_type": "display_data"
    }
   ],
   "source": [
    "Xpo.groupby(['legislature', 'secu']).secu.count().unstack().plot(kind=\"bar\", title=\"Apparition du mot \\\"sécurité\\\" dans le corpus de loi par législature\", figsize=(10,8))"
   ]
  },
  {
   "cell_type": "code",
   "execution_count": 200,
   "id": "34107fdf",
   "metadata": {
    "scrolled": false
   },
   "outputs": [
    {
     "data": {
      "text/plain": [
       "<AxesSubplot:title={'center':'Apparition du mot \"sécurité\" dans le corpus de loi, en fonction du nombre de productions dans les débats parlementaires'}, xlabel='Productions'>"
      ]
     },
     "execution_count": 200,
     "metadata": {},
     "output_type": "execute_result"
    },
    {
     "data": {
      "image/png": "[encoded data removed]",
      "text/plain": [
       "<Figure size 720x576 with 1 Axes>"
      ]
     },
     "metadata": {
      "needs_background": "light"
     },
     "output_type": "display_data"
    }
   ],
   "source": [
    "Xpo.groupby(['Productions', 'secu']).secu.count().unstack().plot(kind=\"bar\", title=\"Apparition du mot \\\"sécurité\\\" dans le corpus de loi, en fonction du nombre de productions dans les débats parlementaires\", figsize=(10,8))"
   ]
  },
  {
   "cell_type": "markdown",
   "id": "a269f350",
   "metadata": {},
   "source": [
    "## Pour la fin "
   ]
  },
  {
   "cell_type": "code",
   "execution_count": 35,
   "id": "e5f2c23b",
   "metadata": {},
   "outputs": [
    {
     "name": "stderr",
     "output_type": "stream",
     "text": [
      "/opt/anaconda3/lib/python3.8/site-packages/pandas/core/indexing.py:1637: SettingWithCopyWarning: \n",
      "A value is trying to be set on a copy of a slice from a DataFrame\n",
      "\n",
      "See the caveats in the documentation: https://pandas.pydata.org/pandas-docs/stable/user_guide/indexing.html#returning-a-view-versus-a-copy\n",
      "  self._setitem_single_block(indexer, value, name)\n"
     ]
    },
    {
     "ename": "KeyboardInterrupt",
     "evalue": "",
     "output_type": "error",
     "traceback": [
      "\u001b[0;31m---------------------------------------------------------------------------\u001b[0m",
      "\u001b[0;31mKeyboardInterrupt\u001b[0m                         Traceback (most recent call last)",
      "\u001b[0;32m<ipython-input-35-1f3f507f65f3>\u001b[0m in \u001b[0;36m<module>\u001b[0;34m\u001b[0m\n\u001b[1;32m      6\u001b[0m             \u001b[0mXpo\u001b[0m\u001b[0;34m[\u001b[0m\u001b[0;34m\"secu\"\u001b[0m\u001b[0;34m]\u001b[0m\u001b[0;34m.\u001b[0m\u001b[0miloc\u001b[0m\u001b[0;34m[\u001b[0m\u001b[0mi\u001b[0m\u001b[0;34m]\u001b[0m \u001b[0;34m=\u001b[0m \u001b[0;36m1\u001b[0m\u001b[0;34m\u001b[0m\u001b[0;34m\u001b[0m\u001b[0m\n\u001b[1;32m      7\u001b[0m         \u001b[0;32melse\u001b[0m\u001b[0;34m:\u001b[0m\u001b[0;34m\u001b[0m\u001b[0;34m\u001b[0m\u001b[0m\n\u001b[0;32m----> 8\u001b[0;31m             \u001b[0mXpo\u001b[0m\u001b[0;34m[\u001b[0m\u001b[0;34m\"secu\"\u001b[0m\u001b[0;34m]\u001b[0m\u001b[0;34m.\u001b[0m\u001b[0miloc\u001b[0m\u001b[0;34m[\u001b[0m\u001b[0mi\u001b[0m\u001b[0;34m]\u001b[0m \u001b[0;34m=\u001b[0m \u001b[0;36m0\u001b[0m\u001b[0;34m\u001b[0m\u001b[0;34m\u001b[0m\u001b[0m\n\u001b[0m",
      "\u001b[0;32m/opt/anaconda3/lib/python3.8/site-packages/pandas/core/indexing.py\u001b[0m in \u001b[0;36m__setitem__\u001b[0;34m(self, key, value)\u001b[0m\n\u001b[1;32m    690\u001b[0m \u001b[0;34m\u001b[0m\u001b[0m\n\u001b[1;32m    691\u001b[0m         \u001b[0miloc\u001b[0m \u001b[0;34m=\u001b[0m \u001b[0mself\u001b[0m \u001b[0;32mif\u001b[0m \u001b[0mself\u001b[0m\u001b[0;34m.\u001b[0m\u001b[0mname\u001b[0m \u001b[0;34m==\u001b[0m \u001b[0;34m\"iloc\"\u001b[0m \u001b[0;32melse\u001b[0m \u001b[0mself\u001b[0m\u001b[0;34m.\u001b[0m\u001b[0mobj\u001b[0m\u001b[0;34m.\u001b[0m\u001b[0miloc\u001b[0m\u001b[0;34m\u001b[0m\u001b[0;34m\u001b[0m\u001b[0m\n\u001b[0;32m--> 692\u001b[0;31m         \u001b[0miloc\u001b[0m\u001b[0;34m.\u001b[0m\u001b[0m_setitem_with_indexer\u001b[0m\u001b[0;34m(\u001b[0m\u001b[0mindexer\u001b[0m\u001b[0;34m,\u001b[0m \u001b[0mvalue\u001b[0m\u001b[0;34m,\u001b[0m \u001b[0mself\u001b[0m\u001b[0;34m.\u001b[0m\u001b[0mname\u001b[0m\u001b[0;34m)\u001b[0m\u001b[0;34m\u001b[0m\u001b[0;34m\u001b[0m\u001b[0m\n\u001b[0m\u001b[1;32m    693\u001b[0m \u001b[0;34m\u001b[0m\u001b[0m\n\u001b[1;32m    694\u001b[0m     \u001b[0;32mdef\u001b[0m \u001b[0m_validate_key\u001b[0m\u001b[0;34m(\u001b[0m\u001b[0mself\u001b[0m\u001b[0;34m,\u001b[0m \u001b[0mkey\u001b[0m\u001b[0;34m,\u001b[0m \u001b[0maxis\u001b[0m\u001b[0;34m:\u001b[0m \u001b[0mint\u001b[0m\u001b[0;34m)\u001b[0m\u001b[0;34m:\u001b[0m\u001b[0;34m\u001b[0m\u001b[0;34m\u001b[0m\u001b[0m\n",
      "\u001b[0;32m/opt/anaconda3/lib/python3.8/site-packages/pandas/core/indexing.py\u001b[0m in \u001b[0;36m_setitem_with_indexer\u001b[0;34m(self, indexer, value, name)\u001b[0m\n\u001b[1;32m   1635\u001b[0m             \u001b[0mself\u001b[0m\u001b[0;34m.\u001b[0m\u001b[0m_setitem_with_indexer_split_path\u001b[0m\u001b[0;34m(\u001b[0m\u001b[0mindexer\u001b[0m\u001b[0;34m,\u001b[0m \u001b[0mvalue\u001b[0m\u001b[0;34m,\u001b[0m \u001b[0mname\u001b[0m\u001b[0;34m)\u001b[0m\u001b[0;34m\u001b[0m\u001b[0;34m\u001b[0m\u001b[0m\n\u001b[1;32m   1636\u001b[0m         \u001b[0;32melse\u001b[0m\u001b[0;34m:\u001b[0m\u001b[0;34m\u001b[0m\u001b[0;34m\u001b[0m\u001b[0m\n\u001b[0;32m-> 1637\u001b[0;31m             \u001b[0mself\u001b[0m\u001b[0;34m.\u001b[0m\u001b[0m_setitem_single_block\u001b[0m\u001b[0;34m(\u001b[0m\u001b[0mindexer\u001b[0m\u001b[0;34m,\u001b[0m \u001b[0mvalue\u001b[0m\u001b[0;34m,\u001b[0m \u001b[0mname\u001b[0m\u001b[0;34m)\u001b[0m\u001b[0;34m\u001b[0m\u001b[0;34m\u001b[0m\u001b[0m\n\u001b[0m\u001b[1;32m   1638\u001b[0m \u001b[0;34m\u001b[0m\u001b[0m\n\u001b[1;32m   1639\u001b[0m     \u001b[0;32mdef\u001b[0m \u001b[0m_setitem_with_indexer_split_path\u001b[0m\u001b[0;34m(\u001b[0m\u001b[0mself\u001b[0m\u001b[0;34m,\u001b[0m \u001b[0mindexer\u001b[0m\u001b[0;34m,\u001b[0m \u001b[0mvalue\u001b[0m\u001b[0;34m,\u001b[0m \u001b[0mname\u001b[0m\u001b[0;34m:\u001b[0m \u001b[0mstr\u001b[0m\u001b[0;34m)\u001b[0m\u001b[0;34m:\u001b[0m\u001b[0;34m\u001b[0m\u001b[0;34m\u001b[0m\u001b[0m\n",
      "\u001b[0;32m/opt/anaconda3/lib/python3.8/site-packages/pandas/core/indexing.py\u001b[0m in \u001b[0;36m_setitem_single_block\u001b[0;34m(self, indexer, value, name)\u001b[0m\n\u001b[1;32m   1855\u001b[0m \u001b[0;34m\u001b[0m\u001b[0m\n\u001b[1;32m   1856\u001b[0m         \u001b[0;31m# check for chained assignment\u001b[0m\u001b[0;34m\u001b[0m\u001b[0;34m\u001b[0m\u001b[0;34m\u001b[0m\u001b[0m\n\u001b[0;32m-> 1857\u001b[0;31m         \u001b[0mself\u001b[0m\u001b[0;34m.\u001b[0m\u001b[0mobj\u001b[0m\u001b[0;34m.\u001b[0m\u001b[0m_check_is_chained_assignment_possible\u001b[0m\u001b[0;34m(\u001b[0m\u001b[0;34m)\u001b[0m\u001b[0;34m\u001b[0m\u001b[0;34m\u001b[0m\u001b[0m\n\u001b[0m\u001b[1;32m   1858\u001b[0m \u001b[0;34m\u001b[0m\u001b[0m\n\u001b[1;32m   1859\u001b[0m         \u001b[0;31m# actually do the set\u001b[0m\u001b[0;34m\u001b[0m\u001b[0;34m\u001b[0m\u001b[0;34m\u001b[0m\u001b[0m\n",
      "\u001b[0;32m/opt/anaconda3/lib/python3.8/site-packages/pandas/core/generic.py\u001b[0m in \u001b[0;36m_check_is_chained_assignment_possible\u001b[0;34m(self)\u001b[0m\n\u001b[1;32m   3854\u001b[0m         \u001b[0;32mif\u001b[0m \u001b[0mself\u001b[0m\u001b[0;34m.\u001b[0m\u001b[0m_is_view\u001b[0m \u001b[0;32mand\u001b[0m \u001b[0mself\u001b[0m\u001b[0;34m.\u001b[0m\u001b[0m_is_cached\u001b[0m\u001b[0;34m:\u001b[0m\u001b[0;34m\u001b[0m\u001b[0;34m\u001b[0m\u001b[0m\n\u001b[1;32m   3855\u001b[0m             \u001b[0mref\u001b[0m \u001b[0;34m=\u001b[0m \u001b[0mself\u001b[0m\u001b[0;34m.\u001b[0m\u001b[0m_get_cacher\u001b[0m\u001b[0;34m(\u001b[0m\u001b[0;34m)\u001b[0m\u001b[0;34m\u001b[0m\u001b[0;34m\u001b[0m\u001b[0m\n\u001b[0;32m-> 3856\u001b[0;31m             \u001b[0;32mif\u001b[0m \u001b[0mref\u001b[0m \u001b[0;32mis\u001b[0m \u001b[0;32mnot\u001b[0m \u001b[0;32mNone\u001b[0m \u001b[0;32mand\u001b[0m \u001b[0mref\u001b[0m\u001b[0;34m.\u001b[0m\u001b[0m_is_mixed_type\u001b[0m\u001b[0;34m:\u001b[0m\u001b[0;34m\u001b[0m\u001b[0;34m\u001b[0m\u001b[0m\n\u001b[0m\u001b[1;32m   3857\u001b[0m                 \u001b[0mself\u001b[0m\u001b[0;34m.\u001b[0m\u001b[0m_check_setitem_copy\u001b[0m\u001b[0;34m(\u001b[0m\u001b[0mstacklevel\u001b[0m\u001b[0;34m=\u001b[0m\u001b[0;36m4\u001b[0m\u001b[0;34m,\u001b[0m \u001b[0mt\u001b[0m\u001b[0;34m=\u001b[0m\u001b[0;34m\"referent\"\u001b[0m\u001b[0;34m,\u001b[0m \u001b[0mforce\u001b[0m\u001b[0;34m=\u001b[0m\u001b[0;32mTrue\u001b[0m\u001b[0;34m)\u001b[0m\u001b[0;34m\u001b[0m\u001b[0;34m\u001b[0m\u001b[0m\n\u001b[1;32m   3858\u001b[0m             \u001b[0;32mreturn\u001b[0m \u001b[0;32mTrue\u001b[0m\u001b[0;34m\u001b[0m\u001b[0;34m\u001b[0m\u001b[0m\n",
      "\u001b[0;32m/opt/anaconda3/lib/python3.8/site-packages/pandas/core/generic.py\u001b[0m in \u001b[0;36m_is_mixed_type\u001b[0;34m(self)\u001b[0m\n\u001b[1;32m   5566\u001b[0m             \u001b[0;32mreturn\u001b[0m \u001b[0;32mTrue\u001b[0m\u001b[0;34m\u001b[0m\u001b[0;34m\u001b[0m\u001b[0m\n\u001b[1;32m   5567\u001b[0m \u001b[0;34m\u001b[0m\u001b[0m\n\u001b[0;32m-> 5568\u001b[0;31m         \u001b[0;32mreturn\u001b[0m \u001b[0mself\u001b[0m\u001b[0;34m.\u001b[0m\u001b[0mdtypes\u001b[0m\u001b[0;34m.\u001b[0m\u001b[0mnunique\u001b[0m\u001b[0;34m(\u001b[0m\u001b[0;34m)\u001b[0m \u001b[0;34m>\u001b[0m \u001b[0;36m1\u001b[0m\u001b[0;34m\u001b[0m\u001b[0;34m\u001b[0m\u001b[0m\n\u001b[0m\u001b[1;32m   5569\u001b[0m \u001b[0;34m\u001b[0m\u001b[0m\n\u001b[1;32m   5570\u001b[0m     \u001b[0;34m@\u001b[0m\u001b[0mfinal\u001b[0m\u001b[0;34m\u001b[0m\u001b[0;34m\u001b[0m\u001b[0m\n",
      "\u001b[0;32m/opt/anaconda3/lib/python3.8/site-packages/pandas/core/generic.py\u001b[0m in \u001b[0;36mdtypes\u001b[0;34m(self)\u001b[0m\n\u001b[1;32m   5707\u001b[0m         \"\"\"\n\u001b[1;32m   5708\u001b[0m         \u001b[0mdata\u001b[0m \u001b[0;34m=\u001b[0m \u001b[0mself\u001b[0m\u001b[0;34m.\u001b[0m\u001b[0m_mgr\u001b[0m\u001b[0;34m.\u001b[0m\u001b[0mget_dtypes\u001b[0m\u001b[0;34m(\u001b[0m\u001b[0;34m)\u001b[0m\u001b[0;34m\u001b[0m\u001b[0;34m\u001b[0m\u001b[0m\n\u001b[0;32m-> 5709\u001b[0;31m         \u001b[0;32mreturn\u001b[0m \u001b[0mself\u001b[0m\u001b[0;34m.\u001b[0m\u001b[0m_constructor_sliced\u001b[0m\u001b[0;34m(\u001b[0m\u001b[0mdata\u001b[0m\u001b[0;34m,\u001b[0m \u001b[0mindex\u001b[0m\u001b[0;34m=\u001b[0m\u001b[0mself\u001b[0m\u001b[0;34m.\u001b[0m\u001b[0m_info_axis\u001b[0m\u001b[0;34m,\u001b[0m \u001b[0mdtype\u001b[0m\u001b[0;34m=\u001b[0m\u001b[0mnp\u001b[0m\u001b[0;34m.\u001b[0m\u001b[0mobject_\u001b[0m\u001b[0;34m)\u001b[0m\u001b[0;34m\u001b[0m\u001b[0;34m\u001b[0m\u001b[0m\n\u001b[0m\u001b[1;32m   5710\u001b[0m \u001b[0;34m\u001b[0m\u001b[0m\n\u001b[1;32m   5711\u001b[0m     \u001b[0;34m@\u001b[0m\u001b[0mfinal\u001b[0m\u001b[0;34m\u001b[0m\u001b[0;34m\u001b[0m\u001b[0m\n",
      "\u001b[0;32m/opt/anaconda3/lib/python3.8/site-packages/pandas/core/series.py\u001b[0m in \u001b[0;36m__init__\u001b[0;34m(self, data, index, dtype, name, copy, fastpath)\u001b[0m\n\u001b[1;32m    364\u001b[0m                 \u001b[0mdata\u001b[0m \u001b[0;34m=\u001b[0m \u001b[0msanitize_array\u001b[0m\u001b[0;34m(\u001b[0m\u001b[0mdata\u001b[0m\u001b[0;34m,\u001b[0m \u001b[0mindex\u001b[0m\u001b[0;34m,\u001b[0m \u001b[0mdtype\u001b[0m\u001b[0;34m,\u001b[0m \u001b[0mcopy\u001b[0m\u001b[0;34m,\u001b[0m \u001b[0mraise_cast_failure\u001b[0m\u001b[0;34m=\u001b[0m\u001b[0;32mTrue\u001b[0m\u001b[0;34m)\u001b[0m\u001b[0;34m\u001b[0m\u001b[0;34m\u001b[0m\u001b[0m\n\u001b[1;32m    365\u001b[0m \u001b[0;34m\u001b[0m\u001b[0m\n\u001b[0;32m--> 366\u001b[0;31m                 \u001b[0mdata\u001b[0m \u001b[0;34m=\u001b[0m \u001b[0mSingleBlockManager\u001b[0m\u001b[0;34m.\u001b[0m\u001b[0mfrom_array\u001b[0m\u001b[0;34m(\u001b[0m\u001b[0mdata\u001b[0m\u001b[0;34m,\u001b[0m \u001b[0mindex\u001b[0m\u001b[0;34m)\u001b[0m\u001b[0;34m\u001b[0m\u001b[0;34m\u001b[0m\u001b[0m\n\u001b[0m\u001b[1;32m    367\u001b[0m \u001b[0;34m\u001b[0m\u001b[0m\n\u001b[1;32m    368\u001b[0m         \u001b[0mgeneric\u001b[0m\u001b[0;34m.\u001b[0m\u001b[0mNDFrame\u001b[0m\u001b[0;34m.\u001b[0m\u001b[0m__init__\u001b[0m\u001b[0;34m(\u001b[0m\u001b[0mself\u001b[0m\u001b[0;34m,\u001b[0m \u001b[0mdata\u001b[0m\u001b[0;34m)\u001b[0m\u001b[0;34m\u001b[0m\u001b[0;34m\u001b[0m\u001b[0m\n",
      "\u001b[0;32m/opt/anaconda3/lib/python3.8/site-packages/pandas/core/internals/managers.py\u001b[0m in \u001b[0;36mfrom_array\u001b[0;34m(cls, array, index)\u001b[0m\n\u001b[1;32m   1580\u001b[0m         \u001b[0mConstructor\u001b[0m \u001b[0;32mfor\u001b[0m \u001b[0;32mif\u001b[0m \u001b[0mwe\u001b[0m \u001b[0mhave\u001b[0m \u001b[0man\u001b[0m \u001b[0marray\u001b[0m \u001b[0mthat\u001b[0m \u001b[0;32mis\u001b[0m \u001b[0;32mnot\u001b[0m \u001b[0myet\u001b[0m \u001b[0ma\u001b[0m \u001b[0mBlock\u001b[0m\u001b[0;34m.\u001b[0m\u001b[0;34m\u001b[0m\u001b[0;34m\u001b[0m\u001b[0m\n\u001b[1;32m   1581\u001b[0m         \"\"\"\n\u001b[0;32m-> 1582\u001b[0;31m         \u001b[0mblock\u001b[0m \u001b[0;34m=\u001b[0m \u001b[0mmake_block\u001b[0m\u001b[0;34m(\u001b[0m\u001b[0marray\u001b[0m\u001b[0;34m,\u001b[0m \u001b[0mplacement\u001b[0m\u001b[0;34m=\u001b[0m\u001b[0mslice\u001b[0m\u001b[0;34m(\u001b[0m\u001b[0;36m0\u001b[0m\u001b[0;34m,\u001b[0m \u001b[0mlen\u001b[0m\u001b[0;34m(\u001b[0m\u001b[0mindex\u001b[0m\u001b[0;34m)\u001b[0m\u001b[0;34m)\u001b[0m\u001b[0;34m,\u001b[0m \u001b[0mndim\u001b[0m\u001b[0;34m=\u001b[0m\u001b[0;36m1\u001b[0m\u001b[0;34m)\u001b[0m\u001b[0;34m\u001b[0m\u001b[0;34m\u001b[0m\u001b[0m\n\u001b[0m\u001b[1;32m   1583\u001b[0m         \u001b[0;32mreturn\u001b[0m \u001b[0mcls\u001b[0m\u001b[0;34m(\u001b[0m\u001b[0mblock\u001b[0m\u001b[0;34m,\u001b[0m \u001b[0mindex\u001b[0m\u001b[0;34m)\u001b[0m\u001b[0;34m\u001b[0m\u001b[0;34m\u001b[0m\u001b[0m\n\u001b[1;32m   1584\u001b[0m \u001b[0;34m\u001b[0m\u001b[0m\n",
      "\u001b[0;32m/opt/anaconda3/lib/python3.8/site-packages/pandas/core/internals/blocks.py\u001b[0m in \u001b[0;36mmake_block\u001b[0;34m(values, placement, klass, ndim, dtype)\u001b[0m\n\u001b[1;32m   2740\u001b[0m         \u001b[0mvalues\u001b[0m \u001b[0;34m=\u001b[0m \u001b[0mDatetimeArray\u001b[0m\u001b[0;34m.\u001b[0m\u001b[0m_simple_new\u001b[0m\u001b[0;34m(\u001b[0m\u001b[0mvalues\u001b[0m\u001b[0;34m,\u001b[0m \u001b[0mdtype\u001b[0m\u001b[0;34m=\u001b[0m\u001b[0mdtype\u001b[0m\u001b[0;34m)\u001b[0m\u001b[0;34m\u001b[0m\u001b[0;34m\u001b[0m\u001b[0m\n\u001b[1;32m   2741\u001b[0m \u001b[0;34m\u001b[0m\u001b[0m\n\u001b[0;32m-> 2742\u001b[0;31m     \u001b[0;32mreturn\u001b[0m \u001b[0mklass\u001b[0m\u001b[0;34m(\u001b[0m\u001b[0mvalues\u001b[0m\u001b[0;34m,\u001b[0m \u001b[0mndim\u001b[0m\u001b[0;34m=\u001b[0m\u001b[0mndim\u001b[0m\u001b[0;34m,\u001b[0m \u001b[0mplacement\u001b[0m\u001b[0;34m=\u001b[0m\u001b[0mplacement\u001b[0m\u001b[0;34m)\u001b[0m\u001b[0;34m\u001b[0m\u001b[0;34m\u001b[0m\u001b[0m\n\u001b[0m\u001b[1;32m   2743\u001b[0m \u001b[0;34m\u001b[0m\u001b[0m\n\u001b[1;32m   2744\u001b[0m \u001b[0;34m\u001b[0m\u001b[0m\n",
      "\u001b[0;32m/opt/anaconda3/lib/python3.8/site-packages/pandas/core/internals/blocks.py\u001b[0m in \u001b[0;36m__init__\u001b[0;34m(self, values, placement, ndim)\u001b[0m\n\u001b[1;32m    135\u001b[0m         \"\"\"\n\u001b[1;32m    136\u001b[0m         \u001b[0;31m# TODO(EA2D): ndim will be unnecessary with 2D EAs\u001b[0m\u001b[0;34m\u001b[0m\u001b[0;34m\u001b[0m\u001b[0;34m\u001b[0m\u001b[0m\n\u001b[0;32m--> 137\u001b[0;31m         \u001b[0mself\u001b[0m\u001b[0;34m.\u001b[0m\u001b[0mndim\u001b[0m \u001b[0;34m=\u001b[0m \u001b[0mself\u001b[0m\u001b[0;34m.\u001b[0m\u001b[0m_check_ndim\u001b[0m\u001b[0;34m(\u001b[0m\u001b[0mvalues\u001b[0m\u001b[0;34m,\u001b[0m \u001b[0mndim\u001b[0m\u001b[0;34m)\u001b[0m\u001b[0;34m\u001b[0m\u001b[0;34m\u001b[0m\u001b[0m\n\u001b[0m\u001b[1;32m    138\u001b[0m         \u001b[0mself\u001b[0m\u001b[0;34m.\u001b[0m\u001b[0mmgr_locs\u001b[0m \u001b[0;34m=\u001b[0m \u001b[0mplacement\u001b[0m\u001b[0;34m\u001b[0m\u001b[0;34m\u001b[0m\u001b[0m\n\u001b[1;32m    139\u001b[0m         \u001b[0mself\u001b[0m\u001b[0;34m.\u001b[0m\u001b[0mvalues\u001b[0m \u001b[0;34m=\u001b[0m \u001b[0mself\u001b[0m\u001b[0;34m.\u001b[0m\u001b[0m_maybe_coerce_values\u001b[0m\u001b[0;34m(\u001b[0m\u001b[0mvalues\u001b[0m\u001b[0;34m)\u001b[0m\u001b[0;34m\u001b[0m\u001b[0;34m\u001b[0m\u001b[0m\n",
      "\u001b[0;32m/opt/anaconda3/lib/python3.8/site-packages/pandas/core/internals/blocks.py\u001b[0m in \u001b[0;36m_check_ndim\u001b[0;34m(self, values, ndim)\u001b[0m\n\u001b[1;32m    183\u001b[0m             \u001b[0mndim\u001b[0m \u001b[0;34m=\u001b[0m \u001b[0mvalues\u001b[0m\u001b[0;34m.\u001b[0m\u001b[0mndim\u001b[0m\u001b[0;34m\u001b[0m\u001b[0;34m\u001b[0m\u001b[0m\n\u001b[1;32m    184\u001b[0m \u001b[0;34m\u001b[0m\u001b[0m\n\u001b[0;32m--> 185\u001b[0;31m         \u001b[0;32mif\u001b[0m \u001b[0mself\u001b[0m\u001b[0;34m.\u001b[0m\u001b[0m_validate_ndim\u001b[0m \u001b[0;32mand\u001b[0m \u001b[0mvalues\u001b[0m\u001b[0;34m.\u001b[0m\u001b[0mndim\u001b[0m \u001b[0;34m!=\u001b[0m \u001b[0mndim\u001b[0m\u001b[0;34m:\u001b[0m\u001b[0;34m\u001b[0m\u001b[0;34m\u001b[0m\u001b[0m\n\u001b[0m\u001b[1;32m    186\u001b[0m             raise ValueError(\n\u001b[1;32m    187\u001b[0m                 \u001b[0;34m\"Wrong number of dimensions. \"\u001b[0m\u001b[0;34m\u001b[0m\u001b[0;34m\u001b[0m\u001b[0m\n",
      "\u001b[0;31mKeyboardInterrupt\u001b[0m: "
     ]
    }
   ],
   "source": [
    "Xpo[\"secu\"] = [\"\" for i in range(len(Xpo))]\n",
    "\n",
    "for i in range(len(Xpo.preprocessed_xpo)):\n",
    "    for word in Xpo.preprocessed_xpo.iloc[i]:\n",
    "        if \"sécurité\" in word:\n",
    "            Xpo[\"secu\"].iloc[i] = 1\n",
    "        else:\n",
    "            Xpo[\"secu\"].iloc[i] = 0"
   ]
  },
  {
   "cell_type": "code",
   "execution_count": null,
   "id": "5b193acf",
   "metadata": {},
   "outputs": [],
   "source": [
    "Xpo.secu"
   ]
  },
  {
   "cell_type": "code",
   "execution_count": null,
   "id": "07c8efc3",
   "metadata": {},
   "outputs": [],
   "source": [
    "xpo = [xpo for xpo in Xpo.preprocessed_xpo]"
   ]
  },
  {
   "cell_type": "code",
   "execution_count": null,
   "id": "02e5eded",
   "metadata": {},
   "outputs": [],
   "source": []
  }
 ],
 "metadata": {
  "kernelspec": {
   "display_name": "Python 3",
   "language": "python",
   "name": "python3"
  },
  "language_info": {
   "codemirror_mode": {
    "name": "ipython",
    "version": 3
   },
   "file_extension": ".py",
   "mimetype": "text/x-python",
   "name": "python",
   "nbconvert_exporter": "python",
   "pygments_lexer": "ipython3",
   "version": "3.8.8"
  }
 },
 "nbformat": 4,
 "nbformat_minor": 5
}
